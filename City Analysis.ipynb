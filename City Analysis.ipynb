{
 "cells": [
  {
   "cell_type": "markdown",
   "metadata": {},
   "source": [
    "# LEVEL 1\n",
    "## Task 2 : City Analysis"
   ]
  },
  {
   "cell_type": "code",
   "execution_count": 3,
   "metadata": {},
   "outputs": [],
   "source": [
    "import pandas as pd\n",
    "import numpy as np\n",
    "import matplotlib.pyplot as plt"
   ]
  },
  {
   "cell_type": "markdown",
   "metadata": {},
   "source": [
    "### 1. Identify the city with the highest number of restraunts in the  dataset.\n"
   ]
  },
  {
   "cell_type": "code",
   "execution_count": 4,
   "metadata": {},
   "outputs": [],
   "source": [
    "ds = pd.read_csv(r'C:\\Users\\atewa\\OneDrive\\Desktop\\Cognifyz\\Dataset .csv')"
   ]
  },
  {
   "cell_type": "code",
   "execution_count": 5,
   "metadata": {},
   "outputs": [
    {
     "data": {
      "text/plain": [
       "Index(['Restaurant ID', 'Restaurant Name', 'Country Code', 'City', 'Address',\n",
       "       'Locality', 'Locality Verbose', 'Longitude', 'Latitude', 'Cuisines',\n",
       "       'Average Cost for two', 'Currency', 'Has Table booking',\n",
       "       'Has Online delivery', 'Is delivering now', 'Switch to order menu',\n",
       "       'Price range', 'Aggregate rating', 'Rating color', 'Rating text',\n",
       "       'Votes'],\n",
       "      dtype='object')"
      ]
     },
     "execution_count": 5,
     "metadata": {},
     "output_type": "execute_result"
    }
   ],
   "source": [
    "ds.columns"
   ]
  },
  {
   "cell_type": "code",
   "execution_count": 15,
   "metadata": {},
   "outputs": [
    {
     "name": "stdout",
     "output_type": "stream",
     "text": [
      "City\n",
      "New Delhi         5473\n",
      "Gurgaon           1118\n",
      "Noida             1080\n",
      "Faridabad          251\n",
      "Ghaziabad           25\n",
      "                  ... \n",
      "Lakes Entrance       1\n",
      "Mohali               1\n",
      "Panchkula            1\n",
      "Bandung              1\n",
      "Randburg             1\n",
      "Name: count, Length: 141, dtype: int64\n"
     ]
    }
   ],
   "source": [
    "city_count = ds['City'].value_counts().sort_values(ascending=False)\n",
    "print(city_count)"
   ]
  },
  {
   "cell_type": "code",
   "execution_count": 7,
   "metadata": {},
   "outputs": [
    {
     "name": "stdout",
     "output_type": "stream",
     "text": [
      "City with the highest number of  restaurants :  New Delhi\n",
      "City\n",
      "New Delhi    5473\n",
      "Name: count, dtype: int64\n"
     ]
    }
   ],
   "source": [
    "no_of_res=city_count.head(1)\n",
    "print(\"City with the highest number of  restaurants : \", city_count.idxmax())\n",
    "print(no_of_res)"
   ]
  },
  {
   "cell_type": "markdown",
   "metadata": {},
   "source": [
    "### 2. Calculating the average rating of restaurants in each city.\n"
   ]
  },
  {
   "cell_type": "code",
   "execution_count": 10,
   "metadata": {},
   "outputs": [
    {
     "name": "stdout",
     "output_type": "stream",
     "text": [
      "The average rating of restaurants in each city : \n",
      "City\n",
      "Abu Dhabi          4.30\n",
      "Agra               3.96\n",
      "Ahmedabad          4.16\n",
      "Albany             3.56\n",
      "Allahabad          3.40\n",
      "                   ... \n",
      "Weirton            3.90\n",
      "Wellington City    4.25\n",
      "Winchester Bay     3.20\n",
      "Yorkton            3.30\n",
      "��stanbul          4.29\n",
      "Name: Aggregate rating, Length: 141, dtype: float64\n"
     ]
    }
   ],
   "source": [
    "avg_rating= ds.groupby('City')['Aggregate rating'].mean()\n",
    "print(\"The average rating of restaurants in each city : \",)\n",
    "print( round(avg_rating,2))"
   ]
  },
  {
   "cell_type": "markdown",
   "metadata": {},
   "source": [
    "### 3. Determine the city with the highest average rating."
   ]
  },
  {
   "cell_type": "code",
   "execution_count": 9,
   "metadata": {},
   "outputs": [
    {
     "name": "stdout",
     "output_type": "stream",
     "text": [
      "The City with Highest Average rating is :  Inner City , Rating =  4.9\n"
     ]
    }
   ],
   "source": [
    "top_city= avg_rating.idxmax()\n",
    "value = avg_rating.max()\n",
    "print(\"The City with Highest Average rating is : \",top_city,\",\",\"Rating = \",value)"
   ]
  }
 ],
 "metadata": {
  "kernelspec": {
   "display_name": "Python 3",
   "language": "python",
   "name": "python3"
  },
  "language_info": {
   "codemirror_mode": {
    "name": "ipython",
    "version": 3
   },
   "file_extension": ".py",
   "mimetype": "text/x-python",
   "name": "python",
   "nbconvert_exporter": "python",
   "pygments_lexer": "ipython3",
   "version": "3.13.0"
  }
 },
 "nbformat": 4,
 "nbformat_minor": 2
}

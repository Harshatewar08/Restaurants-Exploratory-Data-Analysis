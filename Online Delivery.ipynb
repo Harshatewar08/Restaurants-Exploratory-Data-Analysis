{
 "cells": [
  {
   "cell_type": "markdown",
   "metadata": {},
   "source": [
    "# LEVEL 1\n",
    "## Task 4 : Online Delivery"
   ]
  },
  {
   "cell_type": "code",
   "execution_count": 2,
   "metadata": {},
   "outputs": [],
   "source": [
    "import pandas as pd\n",
    "import numpy as np\n",
    "import matplotlib.pyplot as plt\n",
    "\n",
    "ds = pd.read_csv(r'C:\\Users\\atewa\\OneDrive\\Desktop\\Cognifyz\\Dataset .csv')"
   ]
  },
  {
   "cell_type": "markdown",
   "metadata": {},
   "source": [
    "### 1. Determine the percentage of restaurants that offer online delivery."
   ]
  },
  {
   "cell_type": "code",
   "execution_count": 3,
   "metadata": {},
   "outputs": [
    {
     "data": {
      "text/plain": [
       "Index(['Restaurant ID', 'Restaurant Name', 'Country Code', 'City', 'Address',\n",
       "       'Locality', 'Locality Verbose', 'Longitude', 'Latitude', 'Cuisines',\n",
       "       'Average Cost for two', 'Currency', 'Has Table booking',\n",
       "       'Has Online delivery', 'Is delivering now', 'Switch to order menu',\n",
       "       'Price range', 'Aggregate rating', 'Rating color', 'Rating text',\n",
       "       'Votes'],\n",
       "      dtype='object')"
      ]
     },
     "execution_count": 3,
     "metadata": {},
     "output_type": "execute_result"
    }
   ],
   "source": [
    "ds.columns"
   ]
  },
  {
   "cell_type": "code",
   "execution_count": 4,
   "metadata": {},
   "outputs": [
    {
     "name": "stdout",
     "output_type": "stream",
     "text": [
      "Total Restaurant with Online Delivery :  2451\n"
     ]
    }
   ],
   "source": [
    "dlvry_yes= ds['Has Online delivery'].value_counts().get('Yes',0)\n",
    "print(\"Total Restaurant with Online Delivery : \",dlvry_yes)"
   ]
  },
  {
   "cell_type": "code",
   "execution_count": 5,
   "metadata": {},
   "outputs": [
    {
     "name": "stdout",
     "output_type": "stream",
     "text": [
      "Total Restaurant with No Online Delivery :  7100\n"
     ]
    }
   ],
   "source": [
    "dlvry_no= ds['Has Online delivery'].value_counts().get('No',0)\n",
    "print(\"Total Restaurant with No Online Delivery : \", dlvry_no)"
   ]
  },
  {
   "cell_type": "code",
   "execution_count": 6,
   "metadata": {},
   "outputs": [
    {
     "name": "stdout",
     "output_type": "stream",
     "text": [
      " Total percentage of Restaurants with Online Delivery :  25.66\n"
     ]
    }
   ],
   "source": [
    "total_count= len(ds)\n",
    "percen_of_onl_dlvr= round((dlvry_yes/total_count)*100,2)\n",
    "print(\" Total percentage of Restaurants with Online Delivery : \", percen_of_onl_dlvr)"
   ]
  },
  {
   "cell_type": "code",
   "execution_count": 7,
   "metadata": {},
   "outputs": [
    {
     "name": "stdout",
     "output_type": "stream",
     "text": [
      "Total Percentage of Restaurants without Online Delivery :  74.34\n"
     ]
    }
   ],
   "source": [
    "percen_no_onl_dlvry = round((dlvry_no/total_count)*100,2)\n",
    "print(\"Total Percentage of Restaurants without Online Delivery : \",percen_no_onl_dlvry)"
   ]
  },
  {
   "cell_type": "markdown",
   "metadata": {},
   "source": [
    "### 2. Compare the average ratings of restaurants with and without online delivery.\n"
   ]
  },
  {
   "cell_type": "code",
   "execution_count": 8,
   "metadata": {},
   "outputs": [
    {
     "name": "stdout",
     "output_type": "stream",
     "text": [
      "Average Rating with Online Delivery :  3.25\n"
     ]
    }
   ],
   "source": [
    "avg_yes= round(ds[ds['Has Online delivery']== 'Yes']['Aggregate rating'].mean(),2)\n",
    "print(\"Average Rating with Online Delivery : \", avg_yes)"
   ]
  },
  {
   "cell_type": "code",
   "execution_count": 9,
   "metadata": {},
   "outputs": [
    {
     "name": "stdout",
     "output_type": "stream",
     "text": [
      "Average Rating without Online Delivery :  2.47\n"
     ]
    }
   ],
   "source": [
    "avg_no= round(ds[ds['Has Online delivery']== 'No']['Aggregate rating'].mean(),2)\n",
    "print(\"Average Rating without Online Delivery : \", avg_no)"
   ]
  },
  {
   "cell_type": "markdown",
   "metadata": {},
   "source": [
    "#### Visualizing the Comparison with bar graph"
   ]
  },
  {
   "cell_type": "code",
   "execution_count": 10,
   "metadata": {},
   "outputs": [
    {
     "data": {
      "image/png": "[encoded data removed]",
      "text/plain": [
       "<Figure size 640x480 with 1 Axes>"
      ]
     },
     "metadata": {},
     "output_type": "display_data"
    }
   ],
   "source": [
    "labels= ['Yes','No']\n",
    "avg_rating = [avg_yes,avg_no]\n",
    "colors = 'orange','coral'\n",
    "plt.barh(labels,avg_rating,color=colors)\n",
    "plt.title('Comparison of Average Ratings of Online Delivery')\n",
    "plt.xlabel('Average Rating')\n",
    "plt.ylabel('Online Delivery')\n",
    "plt.show()"
   ]
  }
 ],
 "metadata": {
  "kernelspec": {
   "display_name": "Python 3",
   "language": "python",
   "name": "python3"
  },
  "language_info": {
   "codemirror_mode": {
    "name": "ipython",
    "version": 3
   },
   "file_extension": ".py",
   "mimetype": "text/x-python",
   "name": "python",
   "nbconvert_exporter": "python",
   "pygments_lexer": "ipython3",
   "version": "3.13.0"
  }
 },
 "nbformat": 4,
 "nbformat_minor": 2
}
